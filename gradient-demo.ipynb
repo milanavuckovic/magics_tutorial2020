{
 "cells": [
  {
   "cell_type": "markdown",
   "metadata": {
    "slideshow": {
     "slide_type": "slide"
    }
   },
   "source": [
    "# Demonstrator of the Magics Gradients technique\n",
    "\n",
    "This notebook provides a little demonstrator of the gradients technique implemented in Magics.\n",
    "\n",
    "The technique consists in defining a list of levels or ( waypoints), associates a colour for each of the levels and the define the number of intermediate colours you want Magics to compute to go smoothly from one colour to the next one.\n",
    "\n",
    "\n",
    "In our demonstrator we are going to visualise a temperature field.\n",
    "\n",
    "\n",
    "The levels list chosen is -40/-20/0/20/40 : by default we want a nice nice blue gradient for the negative values, and a red gradient for the positive with very pale values around the 0. \n",
    "\n",
    "The demonstrator allows you to play with the number of colours, you want to see between consecutive colours, and to choose the colours at each waypoint -40 -20 0 20 and 40. \n"
   ]
  },
  {
   "cell_type": "code",
   "execution_count": 1,
   "metadata": {
    "scrolled": true,
    "slideshow": {
     "slide_type": "slide"
    }
   },
   "outputs": [],
   "source": [
    "from __future__ import print_function\n",
    "from ipywidgets import interact, interactive, fixed, interact_manual, Layout\n",
    "import ipywidgets as widgets\n",
    "from IPython.display import clear_output\n",
    "import Magics.macro as magics\n",
    "from IPython.display import display"
   ]
  },
  {
   "cell_type": "code",
   "execution_count": 6,
   "metadata": {},
   "outputs": [],
   "source": [
    "def plot(gradients=20, color1='#034371',\n",
    "         color2='#44a0ff', color3='white', color4='#ff9692', color5='#631613',\n",
    "         contour_gradients_waypoint_method = 'ignore'):\n",
    "#Setting the geographical area\n",
    "    projection = magics.mmap(\n",
    "        subpage_map_library_area = \"on\",\n",
    "        subpage_map_area_name    = \"pacific\"\n",
    "    )\n",
    "\n",
    "    #Setting the coastline\n",
    "    coast = magics.mcoast()\n",
    "\n",
    "    #Loading GRIB file\n",
    "    temperature = magics.mgrib(grib_input_file_name = \"data/t850.grib\")\n",
    "\n",
    "    #Defining the contour\n",
    "    contour = magics.mcont(\n",
    "        legend                            = \"on\",\n",
    "        contour                           = \"off\",\n",
    "        contour_level_selection_type      = \"level_list\",\n",
    "        contour_level_list                = [-40.,-20.,0.,20.,40.],\n",
    "        contour_gradients_step_list       = [gradients, gradients, gradients, gradients],\n",
    "        contour_label                     = \"off\",\n",
    "        contour_shade                     = \"on\",\n",
    "        contour_shade_colour_method       = \"gradients\",\n",
    "        contour_gradients_technique       = \"rgb\",\n",
    "        contour_shade_method              = \"area_fill\",\n",
    "        contour_gradients_colour_list     = [color1, color2, color3, color4, color5],\n",
    "        contour_gradients_waypoint_method = contour_gradients_waypoint_method )\n",
    "\n",
    "    #Defining the legend\n",
    "    legend = magics.mlegend(\n",
    "        legend_display_type        = \"continuous\",\n",
    "        legend_box_mode            = \"automatic\",\n",
    "        legend_title               = \"on\",\n",
    "        legend_title_text          = \"Temperature at 850 hPa\",\n",
    "        legend_automatic_position  = \"right\",\n",
    "        legend_label_frequency     = int(gradients/4),\n",
    "        legend_text_font_size      = \"0.5\",\n",
    "        legend_text_colour         = \"charcoal\",    \n",
    "        legend_entry_border        = \"on\",\n",
    "        legend_entry_border_colour = \"none\") \n",
    "\n",
    "    #Setting the title\n",
    "    title = magics.mtext( \n",
    "        text_lines          = [\"Demonstartor of the dradients technique for shading\", \n",
    "                               \"Computing a range of colours with 5 waypoints given as level list\",\n",
    "                               \"contour_level_list                      : [-40, -20, 0, 20, 40]\",\n",
    "                               \"Five colours given <font color='{}'> {} </font>  <font color='{}'> {} </font>  <font color='{}'> {} </font>  <font color='{}'> {} </font>  <font color='{}'> {} </font>\".format(color1, color1, \n",
    "                               color2, color2, color3, color3, color4, color4, color5, color5), \n",
    "                               \"{} colours between each consecutive waypoints\".format(gradients)],\n",
    "        text_justification  = 'left',\n",
    "        text_font_size      = 0.7,\n",
    "        text_mode           = \"automatic\",\n",
    "        text_colour         = \"charcoal\") \n",
    "\n",
    "    \n",
    "    clear_output()\n",
    "    \n",
    "    return display(magics.plot(projection, temperature, contour, coast, legend, title))"
   ]
  },
  {
   "cell_type": "code",
   "execution_count": 15,
   "metadata": {},
   "outputs": [
    {
     "data": {
      "application/vnd.jupyter.widget-view+json": {
       "model_id": "6b6d1f4003bd41d2bd014aab7215dbdb",
       "version_major": 2,
       "version_minor": 0
      },
      "text/plain": [
       "VBox(children=(VBox(children=(IntSlider(value=20, continuous_update=False, description='Number of colours betw…"
      ]
     },
     "metadata": {},
     "output_type": "display_data"
    }
   ],
   "source": [
    "output = widgets.Output(layout={'border': '1px solid black', 'width': '400px'})\n",
    "style = {'description_width': 'initial', 'width' : '400px'}\n",
    "layout=Layout(width='500px', height='auto')\n",
    "largelayout=Layout(width='1000px', height='auto')\n",
    "gradients=widgets.IntSlider(description=\"Number of colours between to 2 consecutive waypoints\",  min=1, max=50, value=20, continuous_update=False, style=style, layout=layout)\n",
    "color1 = widgets.ColorPicker(value = '#034371', description=\"Choose the colour for waypoint -40\", concise=False, disabled=False, continuous_update=False, style=style, layout=layout) \n",
    "color2 = widgets.ColorPicker(value = '#44a0ff', description=\"Choose the colour for waypoint -20\", concise=False, disabled=False, continuous_update=False, style=style, layout=layout)\n",
    "color3 = widgets.ColorPicker(value = 'white', description=\"Choose the colour for waypoint   0\", concise=False, disabled=False, continuous_update=False, style=style, layout=layout)\n",
    "color4 = widgets.ColorPicker(value = '#ff9692', description=\"Choose the colour for waypoint 20\", concise=False, disabled=False, continuous_update=False, style=style, layout=layout)\n",
    "color5 = widgets.ColorPicker(value = '#631613', description=\"Choose the colour for waypoint 40\", concise=False, disabled=False, continuous_update=False, style=style, layout=layout)\n",
    "\n",
    "contour_gradients_waypoint_method = widgets.ToggleButtons(options=['ignore', 'left', 'right', 'both'], \n",
    "                                                          value='ignore', style = style, layout = largelayout, \n",
    "                                                          description='contour_gradients_waypoint_method')\n",
    "out = widgets.interactive_output(plot, {'gradients': gradients, 'color1': color1, 'color2': color2,\n",
    "                                       'color3': color3, 'color4': color4, 'color5': color5, \n",
    "                                       'contour_gradients_waypoint_method':contour_gradients_waypoint_method })\n",
    "\n",
    "widgets.VBox([widgets.VBox([gradients, color1, color2, color3, color4, color5, contour_gradients_waypoint_method]), out])\n",
    "\n"
   ]
  },
  {
   "cell_type": "code",
   "execution_count": null,
   "metadata": {},
   "outputs": [],
   "source": []
  },
  {
   "cell_type": "code",
   "execution_count": null,
   "metadata": {},
   "outputs": [],
   "source": []
  }
 ],
 "metadata": {
  "kernelspec": {
   "display_name": "Python 3",
   "language": "python",
   "name": "python3"
  },
  "language_info": {
   "codemirror_mode": {
    "name": "ipython",
    "version": 3
   },
   "file_extension": ".py",
   "mimetype": "text/x-python",
   "name": "python",
   "nbconvert_exporter": "python",
   "pygments_lexer": "ipython3",
   "version": "3.7.5"
  }
 },
 "nbformat": 4,
 "nbformat_minor": 2
}
